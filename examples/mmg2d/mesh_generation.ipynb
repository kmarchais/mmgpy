{
  "cells": [
    {
      "cell_type": "markdown",
      "metadata": {},
      "source": [
        "`pip install ipykernel ipywidgets meshio pyvista trame trame-vtk trame-vuetify`"
      ]
    },
    {
      "cell_type": "code",
      "execution_count": 1,
      "metadata": {},
      "outputs": [],
      "source": [
        "from pathlib import Path\n",
        "\n",
        "import meshio\n",
        "import pyvista as pv\n",
        "\n",
        "from mmgpy import mmg2d\n",
        "\n",
        "ASSETS = Path(\"../..\") / \"assets\"\n",
        "\n",
        "mesh_kwargs = {\n",
        "    \"show_edges\": True,\n",
        "    \"show_scalar_bar\": True,\n",
        "    \"cmap\": \"tab10\",\n",
        "}\n",
        "\n",
        "text_kwargs = {\"font_size\": 10, \"position\": \"lower_edge\"}"
      ]
    },
    {
      "cell_type": "code",
      "execution_count": 2,
      "metadata": {},
      "outputs": [
        {
          "data": {
            "application/vnd.jupyter.widget-view+json": {
              "model_id": "32eaea581c0a460b8d179c8f445de4a4",
              "version_major": 2,
              "version_minor": 0
            },
            "text/plain": [
              "Widget(value='<iframe src=\"http://localhost:65525/index.html?ui=P_0x186e62f2ba0_0&reconnect=auto\" class=\"pyvis…"
            ]
          },
          "metadata": {},
          "output_type": "display_data"
        }
      ],
      "source": [
        "INPUT_FILE = ASSETS / \"acdcBdy.mesh\"\n",
        "\n",
        "pl = pv.Plotter(shape=(1, 3))\n",
        "\n",
        "pl.subplot(0, 0)\n",
        "pl.add_mesh(pv.wrap(meshio.read(INPUT_FILE)), show_edges=True, color=\"red\")\n",
        "pl.add_text(\"Initial set of edges\", **text_kwargs)\n",
        "\n",
        "pl.subplot(0, 1)\n",
        "mmg2d.remesh(\n",
        "    input_mesh=INPUT_FILE,\n",
        "    output_mesh=\"acdcBdy_remeshed.vtk\",\n",
        "    options={\"ar\": 10},\n",
        ")\n",
        "mesh = pv.read(\"acdcBdy_remeshed.vtk\")\n",
        "pl.add_mesh(mesh, scalars=\"medit:ref\", **mesh_kwargs)\n",
        "pl.add_text(\"Mesh with sharp angle detection of 10°\", **text_kwargs)\n",
        "\n",
        "pl.subplot(0, 2)\n",
        "mmg2d.remesh(\n",
        "    input_mesh=INPUT_FILE,\n",
        "    output_mesh=\"acdcBdy_remeshed.vtk\",\n",
        "    options={\"ar\": 10, \"hmax\": 10},\n",
        ")\n",
        "mesh = pv.read(\"acdcBdy_remeshed.vtk\")\n",
        "pl.add_mesh(mesh, scalars=\"medit:ref\", **mesh_kwargs)\n",
        "pl.add_text(\"Maximal edge size of 10\", **text_kwargs)\n",
        "\n",
        "pl.link_views()\n",
        "pl.view_xy()\n",
        "pl.zoom_camera(2)\n",
        "pl.show()"
      ]
    },
    {
      "cell_type": "markdown",
      "metadata": {},
      "source": [
        "## Mesh generation from a set of points"
      ]
    },
    {
      "cell_type": "code",
      "execution_count": 3,
      "metadata": {},
      "outputs": [
        {
          "data": {
            "application/vnd.jupyter.widget-view+json": {
              "model_id": "815aebbb841c4e9c82d8974f49c82468",
              "version_major": 2,
              "version_minor": 0
            },
            "text/plain": [
              "Widget(value='<iframe src=\"http://localhost:65525/index.html?ui=P_0x186ed861f90_1&reconnect=auto\" class=\"pyvis…"
            ]
          },
          "metadata": {},
          "output_type": "display_data"
        }
      ],
      "source": [
        "SQUARE_FILE_VTK = ASSETS / \"square.vtk\"\n",
        "SQUARE_FILE_MESH = ASSETS / \"square.mesh\"\n",
        "\n",
        "pl = pv.Plotter(shape=(1, 3))\n",
        "\n",
        "pl.subplot(0, 0)\n",
        "pl.add_mesh(pv.read(SQUARE_FILE_VTK), show_edges=True, color=\"red\")\n",
        "pl.add_text(\"Initial mesh file (only points)\", **text_kwargs)\n",
        "\n",
        "pl.subplot(0, 1)\n",
        "mmg2d.remesh(\n",
        "    input_mesh=SQUARE_FILE_MESH,\n",
        "    output_mesh=\"square_remeshed.vtk\",\n",
        ")\n",
        "mesh = pv.read(\"square_remeshed.vtk\")\n",
        "pl.add_mesh(mesh, **mesh_kwargs)\n",
        "pl.add_text(\"Generated mesh\", **text_kwargs)\n",
        "\n",
        "pl.subplot(0, 2)\n",
        "mmg2d.remesh(\n",
        "    input_mesh=SQUARE_FILE_MESH,\n",
        "    output_mesh=\"square_remeshed.vtk\",\n",
        "    options={\n",
        "        \"noinsert\": True,\n",
        "        \"nomove\": True,\n",
        "        \"noswap\": True,\n",
        "    },\n",
        ")\n",
        "mesh = pv.read(\"square_remeshed.vtk\")\n",
        "pl.add_mesh(mesh, **mesh_kwargs)\n",
        "pl.add_text(\"Preservation of the initial points\", **text_kwargs)\n",
        "\n",
        "pl.link_views()\n",
        "pl.view_xy()\n",
        "pl.zoom_camera(2)\n",
        "pl.show()"
      ]
    }
  ],
  "metadata": {
    "kernelspec": {
      "display_name": ".venv",
      "language": "python",
      "name": "python3"
    },
    "language_info": {
      "codemirror_mode": {
        "name": "ipython",
        "version": 3
      },
      "file_extension": ".py",
      "mimetype": "text/x-python",
      "name": "python",
      "nbconvert_exporter": "python",
      "pygments_lexer": "ipython3",
      "version": "3.13.0"
    }
  },
  "nbformat": 4,
  "nbformat_minor": 4
}
